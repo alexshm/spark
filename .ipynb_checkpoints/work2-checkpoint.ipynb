{
 "cells": [
  {
   "cell_type": "code",
   "execution_count": 21,
   "metadata": {},
   "outputs": [],
   "source": [
    "sql_c = SQLContext(sc)"
   ]
  },
  {
   "cell_type": "code",
   "execution_count": 22,
   "metadata": {},
   "outputs": [],
   "source": [
    "corona_data = sql_c.read.csv(\"corona_data.csv\",header = True,inferSchema = True)"
   ]
  },
  {
   "cell_type": "code",
   "execution_count": 23,
   "metadata": {},
   "outputs": [
    {
     "data": {
      "text/plain": [
       "DataFrame[dateRep: string, day: int, month: int, year: int, cases: int, deaths: int, countriesAndTerritories: string, geoId: string, countryterritoryCode: string, popData2018: int]"
      ]
     },
     "execution_count": 23,
     "metadata": {},
     "output_type": "execute_result"
    }
   ],
   "source": [
    "corona_data"
   ]
  },
  {
   "cell_type": "code",
   "execution_count": 31,
   "metadata": {},
   "outputs": [
    {
     "name": "stdout",
     "output_type": "stream",
     "text": [
      "root\n",
      " |-- dateRep: string (nullable = true)\n",
      " |-- day: integer (nullable = true)\n",
      " |-- month: integer (nullable = true)\n",
      " |-- year: integer (nullable = true)\n",
      " |-- cases: integer (nullable = true)\n",
      " |-- deaths: integer (nullable = true)\n",
      " |-- countriesAndTerritories: string (nullable = true)\n",
      " |-- geoId: string (nullable = true)\n",
      " |-- countryterritoryCode: string (nullable = true)\n",
      " |-- popData2018: integer (nullable = true)\n",
      "\n"
     ]
    }
   ],
   "source": [
    "corona_data.printSchema()"
   ]
  },
  {
   "cell_type": "code",
   "execution_count": 32,
   "metadata": {},
   "outputs": [],
   "source": [
    "corona_data.createOrReplaceTempView(\"corona_data\")"
   ]
  },
  {
   "cell_type": "raw",
   "metadata": {},
   "source": [
    "sqlDF = spark.sql(\"SELECT geoId FROM corona_data  where geoId like'%US%' group by geoId \")"
   ]
  },
  {
   "cell_type": "code",
   "execution_count": 70,
   "metadata": {},
   "outputs": [],
   "source": [
    "sqlDF = spark.sql(\"SELECT * FROM corona_data  where geoId ='US' limit 10\")"
   ]
  },
  {
   "cell_type": "code",
   "execution_count": 71,
   "metadata": {},
   "outputs": [
    {
     "name": "stdout",
     "output_type": "stream",
     "text": [
      "+----------+---+-----+----+-----+------+-----------------------+-----+--------------------+-----------+\n",
      "|   dateRep|day|month|year|cases|deaths|countriesAndTerritories|geoId|countryterritoryCode|popData2018|\n",
      "+----------+---+-----+----+-----+------+-----------------------+-----+--------------------+-----------+\n",
      "|18/04/2020| 18|    4|2020|30833|  3770|   United_States_of_...|   US|                 USA|  327167434|\n",
      "|17/04/2020| 17|    4|2020|31667|  2299|   United_States_of_...|   US|                 USA|  327167434|\n",
      "|16/04/2020| 16|    4|2020|30148|  4928|   United_States_of_...|   US|                 USA|  327167434|\n",
      "|15/04/2020| 15|    4|2020|26922|  2408|   United_States_of_...|   US|                 USA|  327167434|\n",
      "|14/04/2020| 14|    4|2020|25023|  1541|   United_States_of_...|   US|                 USA|  327167434|\n",
      "|13/04/2020| 13|    4|2020|27620|  1500|   United_States_of_...|   US|                 USA|  327167434|\n",
      "|12/04/2020| 12|    4|2020|28391|  1831|   United_States_of_...|   US|                 USA|  327167434|\n",
      "|11/04/2020| 11|    4|2020|35527|  2087|   United_States_of_...|   US|                 USA|  327167434|\n",
      "|10/04/2020| 10|    4|2020|33901|  1873|   United_States_of_...|   US|                 USA|  327167434|\n",
      "|09/04/2020|  9|    4|2020|33323|  1922|   United_States_of_...|   US|                 USA|  327167434|\n",
      "+----------+---+-----+----+-----+------+-----------------------+-----+--------------------+-----------+\n",
      "\n"
     ]
    }
   ],
   "source": [
    "sqlDF.show()"
   ]
  },
  {
   "cell_type": "code",
   "execution_count": null,
   "metadata": {},
   "outputs": [],
   "source": []
  }
 ],
 "metadata": {
  "kernelspec": {
   "display_name": "Python 3",
   "language": "python",
   "name": "python3"
  },
  "language_info": {
   "codemirror_mode": {
    "name": "ipython",
    "version": 3
   },
   "file_extension": ".py",
   "mimetype": "text/x-python",
   "name": "python",
   "nbconvert_exporter": "python",
   "pygments_lexer": "ipython3",
   "version": "3.7.4"
  }
 },
 "nbformat": 4,
 "nbformat_minor": 4
}
